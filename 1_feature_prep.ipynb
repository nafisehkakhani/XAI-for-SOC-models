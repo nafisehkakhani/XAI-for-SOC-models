{
 "cells": [
  {
   "cell_type": "markdown",
   "id": "d4a7f845",
   "metadata": {},
   "source": [
    "## Preparation of Input Features"
   ]
  },
  {
   "cell_type": "code",
   "execution_count": null,
   "id": "df47a0a6",
   "metadata": {},
   "outputs": [],
   "source": [
    "import ee\n",
    "import geemap"
   ]
  },
  {
   "cell_type": "code",
   "execution_count": 2,
   "id": "ecfa4b60",
   "metadata": {},
   "outputs": [],
   "source": [
    "# ee.Authenticate()\n",
    "ee.Initialize()"
   ]
  },
  {
   "cell_type": "code",
   "execution_count": 4,
   "id": "78db5d12",
   "metadata": {},
   "outputs": [],
   "source": [
    "import os\n",
    "import math\n",
    "import json\n",
    "import requests\n",
    "from geemap import geojson_to_ee, ee_to_geojson\n",
    "from ipyleaflet import GeoJSON\n",
    "from utils.ee_utils import *\n"
   ]
  },
  {
   "cell_type": "code",
   "execution_count": null,
   "id": "9407917b",
   "metadata": {},
   "outputs": [],
   "source": [
    "# Define your parameters\n",
    "year = 2014\n",
    "compositingPeriod = 5\n",
    "startJulian = 70\n",
    "endJulian = 120\n",
    "roiName = \"Germany\"\n",
    "\n",
    "reducerPercentile = 75\n",
    "reducer = ee.Reducer.percentile([reducerPercentile])\n",
    "# reducer = ee.Reducer.mean()\n",
    "\n",
    "\n",
    "# BoundingBox for Germany\n",
    "geo = ee.Geometry.BBox(5.98865807458, 47.3024876979, 15.0169958839, 54.983104153) # ee.Geometry.BBox(4.713226,47.122056,15.347425,55.119174)\n",
    "crs = 'EPSG:4326'\n",
    "\n",
    "# Call your getImage function to get the composite image\n",
    "composite = getImage(year, compositingPeriod, startJulian, endJulian, reducer, geo, crs)"
   ]
  },
  {
   "cell_type": "markdown",
   "id": "76ea04e4",
   "metadata": {},
   "source": [
    "If you want to know about HLSL30: https://developers.google.com/earth-engine/datasets/catalog/NASA_HLS_HLSL30_v002\n",
    "\n",
    "REMEMBER: download function of geemap has limit for GEE function usages."
   ]
  },
  {
   "cell_type": "markdown",
   "id": "8ac26237",
   "metadata": {},
   "source": [
    "Uncomment if you need to download other covariates. "
   ]
  },
  {
   "cell_type": "code",
   "execution_count": null,
   "id": "e955c4ef",
   "metadata": {},
   "outputs": [],
   "source": [
    "# # CORINE land cover https://developers.google.com/earth-engine/datasets/catalog/COPERNICUS_CORINE_V20_100m\n",
    "# desired = ee.Image('COPERNICUS/CORINE/V20/100m/2012');\n",
    "\n",
    "# # ESA WorldCover 10m v100 https://developers.google.com/earth-engine/datasets/catalog/ESA_WorldCover_v100\n",
    "# desired = ee.ImageCollection(\"ESA/WorldCover/v100\").first();\n",
    "\n",
    "# # Global PALSAR-2/PALSAR Forest/Non-Forest Map https://developers.google.com/earth-engine/datasets/catalog/JAXA_ALOS_PALSAR_YEARLY_FNF\n",
    "# polsar = ee.ImageCollection(\"JAXA/ALOS/PALSAR/YEARLY/FNF\") \n",
    "# desired = polsar.select('fnf').first()\n",
    "\n",
    "# MCD12Q1.006 MODIS Land Cover Type Yearly Global 500m https://developers.google.com/earth-engine/datasets/catalog/MODIS_006_MCD12Q1\n",
    "# desired = ee.ImageCollection('MODIS/006/MCD12Q1').select('LC_Type1').first()"
   ]
  }
 ],
 "metadata": {
  "kernelspec": {
   "display_name": "EarthEngine",
   "language": "python",
   "name": "python3"
  },
  "language_info": {
   "codemirror_mode": {
    "name": "ipython",
    "version": 3
   },
   "file_extension": ".py",
   "mimetype": "text/x-python",
   "name": "python",
   "nbconvert_exporter": "python",
   "pygments_lexer": "ipython3",
   "version": "3.8.13"
  }
 },
 "nbformat": 4,
 "nbformat_minor": 5
}
